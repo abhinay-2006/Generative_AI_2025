{
  "nbformat": 4,
  "nbformat_minor": 0,
  "metadata": {
    "colab": {
      "provenance": [],
      "authorship_tag": "ABX9TyNhTUjZJa81wbFIbn6JN/ea",
      "include_colab_link": true
    },
    "kernelspec": {
      "name": "python3",
      "display_name": "Python 3"
    },
    "language_info": {
      "name": "python"
    }
  },
  "cells": [
    {
      "cell_type": "markdown",
      "metadata": {
        "id": "view-in-github",
        "colab_type": "text"
      },
      "source": [
        "<a href=\"https://colab.research.google.com/github/abhinay-2006/Generative_AI_2025/blob/main/2303A52228_3_3.ipynb\" target=\"_parent\"><img src=\"https://colab.research.google.com/assets/colab-badge.svg\" alt=\"Open In Colab\"/></a>"
      ]
    },
    {
      "cell_type": "code",
      "execution_count": 1,
      "metadata": {
        "colab": {
          "base_uri": "https://localhost:8080/"
        },
        "id": "jcTK4tTPBdi7",
        "outputId": "0fd02cdf-9a5b-4147-c57e-4e72ccde3acb"
      },
      "outputs": [
        {
          "output_type": "stream",
          "name": "stdout",
          "text": [
            "The value of x that minimizes f(x) is approximately: 0.0\n"
          ]
        }
      ],
      "source": [
        "def f(x):\n",
        "    return 5 * x**4 + 3 * x**2 + 10\n",
        "def df(x):\n",
        "    return 20 * x**3 + 6 * x\n",
        "def gradient_descent(learning_rate=0.01, max_iterations=1000, tolerance=1e-6):\n",
        "    x = 0.0\n",
        "    for iteration in range(max_iterations):\n",
        "        gradient = df(x)\n",
        "        x_new = x - learning_rate * gradient\n",
        "        if abs(x_new - x) < tolerance:\n",
        "            break\n",
        "        x = x_new\n",
        "    return x\n",
        "x_min = gradient_descent()\n",
        "print(f\"The value of x that minimizes f(x) is approximately: {x_min}\")\n"
      ]
    },
    {
      "cell_type": "code",
      "source": [
        "def g(x, y):\n",
        "    return 3 * x**2 + 5 * (2.71**(-y)) + 10\n",
        "def dg_dx(x, y):\n",
        "    return 6 * x\n",
        "def dg_dy(x, y):\n",
        "    return -5 * (2.71**(-y))\n",
        "def gradient_descent(learning_rate=0.01, max_iterations=1000, tolerance=1e-6):\n",
        "    x = 0.0\n",
        "    y = 0.0\n",
        "    for iteration in range(max_iterations):\n",
        "        gradient_x = dg_dx(x, y)\n",
        "        gradient_y = dg_dy(x, y)\n",
        "        x_new = x - learning_rate * gradient_x\n",
        "        y_new = y - learning_rate * gradient_y\n",
        "        if abs(x_new - x) < tolerance and abs(y_new - y) < tolerance:\n",
        "            break\n",
        "        x = x_new\n",
        "        y = y_new\n",
        "    return x, y\n",
        "x_min, y_min = gradient_descent()\n",
        "print(f\"The values of x and y that minimize g(x, y) are approximately: x = {x_min}, y = {y_min}\")\n"
      ],
      "metadata": {
        "colab": {
          "base_uri": "https://localhost:8080/"
        },
        "id": "y8cMIrfkDFtc",
        "outputId": "c49e7efb-11dc-4fd5-806a-0efd83fd97f1"
      },
      "execution_count": 2,
      "outputs": [
        {
          "output_type": "stream",
          "name": "stdout",
          "text": [
            "The values of x and y that minimize g(x, y) are approximately: x = 0.0, y = 3.942793517866628\n"
          ]
        }
      ]
    },
    {
      "cell_type": "code",
      "source": [
        "def z(x):\n",
        "    return 1 / (1 + 1 / (2.718281828459045**x))\n",
        "def dz_dx(x):\n",
        "    exp_neg_x = 2.718281828459045**(-x)\n",
        "    return exp_neg_x / (1 + exp_neg_x)**2\n",
        "def gradient_descent(learning_rate=0.01, max_iterations=1000, tolerance=1e-6):\n",
        "    x = 0.0\n",
        "    for iteration in range(max_iterations):\n",
        "        gradient = dz_dx(x)\n",
        "        x_new = x - learning_rate * gradient\n",
        "        if abs(x_new - x) < tolerance:\n",
        "            break\n",
        "        x = x_new\n",
        "    return x\n",
        "x_min = gradient_descent()\n",
        "print(f\"The value of x that minimizes z(x) is approximately: {x_min}\")\n"
      ],
      "metadata": {
        "colab": {
          "base_uri": "https://localhost:8080/"
        },
        "id": "8Yjy0ebFDxOk",
        "outputId": "e6b12e3b-cb80-46a7-f3ae-2a6f534a9d43"
      },
      "execution_count": 3,
      "outputs": [
        {
          "output_type": "stream",
          "name": "stdout",
          "text": [
            "The value of x that minimizes z(x) is approximately: -1.8618354629020137\n"
          ]
        }
      ]
    },
    {
      "cell_type": "code",
      "source": [
        "def predicted_output(x, M, C):\n",
        "    return M * x + C\n",
        "def square_error(x, y, M, C):\n",
        "    error = 0\n",
        "    n = len(x)\n",
        "    for i in range(n):\n",
        "        error += (y[i] - predicted_output(x[i], M, C)) ** 2\n",
        "    return error\n",
        "def gradient_M(x, y, M, C):\n",
        "    grad_M = 0\n",
        "    n = len(x)\n",
        "    for i in range(n):\n",
        "        grad_M += -2 * x[i] * (y[i] - predicted_output(x[i], M, C))\n",
        "    return grad_M\n",
        "def gradient_C(x, y, M, C):\n",
        "    grad_C = 0\n",
        "    n = len(x)\n",
        "    for i in range(n):\n",
        "        grad_C += -2 * (y[i] - predicted_output(x[i], M, C))\n",
        "    return grad_C\n",
        "def gradient_descent(x, y, learning_rate=0.01, max_iterations=1000, tolerance=1e-6):\n",
        "    M = 0.0\n",
        "    C = 0.0\n",
        "    for iteration in range(max_iterations):\n",
        "        grad_M = gradient_M(x, y, M, C)\n",
        "        grad_C = gradient_C(x, y, M, C)\n",
        "        M_new = M - learning_rate * grad_M\n",
        "        C_new = C - learning_rate * grad_C\n",
        "        if abs(M_new - M) < tolerance and abs(C_new - C) < tolerance:\n",
        "            break\n",
        "        M = M_new\n",
        "        C = C_new\n",
        "    return M, C\n",
        "x = [1, 2, 3, 4, 5]\n",
        "y = [3, 5, 7, 9, 11]\n",
        "M_optimal, C_optimal = gradient_descent(x, y)\n",
        "print(f\"The optimal values of M and C are: M = {M_optimal}, C = {C_optimal}\")\n"
      ],
      "metadata": {
        "colab": {
          "base_uri": "https://localhost:8080/"
        },
        "id": "RooB5m2wEc4c",
        "outputId": "981c0ac3-9cf7-405b-8a7f-a4c424aa1fdc"
      },
      "execution_count": 4,
      "outputs": [
        {
          "output_type": "stream",
          "name": "stdout",
          "text": [
            "The optimal values of M and C are: M = 2.000016196262531, C = 0.9999415263532168\n"
          ]
        }
      ]
    }
  ]
}