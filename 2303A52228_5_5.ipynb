{
  "nbformat": 4,
  "nbformat_minor": 0,
  "metadata": {
    "colab": {
      "provenance": [],
      "authorship_tag": "ABX9TyPetSyayiw4Ophv21ofmOsW",
      "include_colab_link": true
    },
    "kernelspec": {
      "name": "python3",
      "display_name": "Python 3"
    },
    "language_info": {
      "name": "python"
    }
  },
  "cells": [
    {
      "cell_type": "markdown",
      "metadata": {
        "id": "view-in-github",
        "colab_type": "text"
      },
      "source": [
        "<a href=\"https://colab.research.google.com/github/abhinay-2006/Generative_AI_2025/blob/main/2303A52228_5_5.ipynb\" target=\"_parent\"><img src=\"https://colab.research.google.com/assets/colab-badge.svg\" alt=\"Open In Colab\"/></a>"
      ]
    },
    {
      "cell_type": "code",
      "source": [
        "import numpy as np\n",
        "def sigmoid(x):\n",
        "    return 1 / (1 + np.exp(-x))\n",
        "def sigmoid_derivative(x):\n",
        "    return x * (1 - x)\n",
        "def mse(y_true, y_pred):\n",
        "    return np.mean((y_true - y_pred) ** 2)\n",
        "train_data = np.array([\n",
        "    [0.1, 0.2, 0.3432],\n",
        "    [0.2, 0.3, 0.3490],\n",
        "    [0.3, 0.4, 0.3548],\n",
        "    [0.6, 0.7, 0.3720],\n",
        "    [0.7, 0.8, 0.3776],\n",
        "    [0.8, 0.9, 0.3832]\n",
        "])\n",
        "X_train = train_data[:, :-1]\n",
        "y_train = train_data[:, -1]\n",
        "test_data = np.array([\n",
        "    [0.4, 0.5, 0.3606],\n",
        "    [0.5, 0.6, 0.3663]\n",
        "])\n",
        "X_test = test_data[:, :-1]\n",
        "y_test = test_data[:, -1]\n",
        "np.random.seed(42)\n",
        "input_size = X_train.shape[1]\n",
        "hidden_size = 3\n",
        "output_size = 1\n",
        "W1 = np.random.randn(input_size, hidden_size)\n",
        "b1 = np.zeros((1, hidden_size))\n",
        "W2 = np.random.randn(hidden_size, output_size)\n",
        "b2 = np.zeros((1, output_size))\n",
        "learning_rate = 0.1\n",
        "epochs = 10000\n",
        "for epoch in range(epochs):\n",
        "    hidden_input = np.dot(X_train, W1) + b1\n",
        "    hidden_output = sigmoid(hidden_input)\n",
        "    final_input = np.dot(hidden_output, W2) + b2\n",
        "    output = final_input\n",
        "    error = (y_train - output.ravel())[:, np.newaxis]\n",
        "    mse_loss = mse(y_train, output)\n",
        "    d_output = error\n",
        "    d_hidden = d_output.dot(W2.T) * sigmoid_derivative(hidden_output)\n",
        "    W2 += hidden_output.T.dot(d_output) * learning_rate\n",
        "    b2 += np.sum(d_output, axis=0, keepdims=True) * learning_rate\n",
        "    W1 += X_train.T.dot(d_hidden) * learning_rate\n",
        "    b1 += np.sum(d_hidden, axis=0, keepdims=True) * learning_rate\n",
        "    if epoch % 1000 == 0:\n",
        "        print(f'Epoch {epoch}, MSE Loss: {mse_loss}')\n",
        "train_output = np.dot(sigmoid(np.dot(X_train, W1) + b1), W2) + b2\n",
        "train_mse = mse(y_train, train_output)\n",
        "print(f'Training MSE: {train_mse}')\n",
        "test_output = np.dot(sigmoid(np.dot(X_test, W1) + b1), W2) + b2\n",
        "test_mse = mse(y_test, test_output)\n",
        "print(f'Testing MSE: {test_mse}')"
      ],
      "metadata": {
        "colab": {
          "base_uri": "https://localhost:8080/"
        },
        "id": "dqwQ82KPFjQl",
        "outputId": "9ba00a13-c821-46b4-cd5c-4a430deba786"
      },
      "execution_count": 4,
      "outputs": [
        {
          "output_type": "stream",
          "name": "stdout",
          "text": [
            "Epoch 0, MSE Loss: 0.7973549694255054\n",
            "Epoch 1000, MSE Loss: 0.0004625758743709078\n",
            "Epoch 2000, MSE Loss: 0.0004615329949797967\n",
            "Epoch 3000, MSE Loss: 0.00046062785227328436\n",
            "Epoch 4000, MSE Loss: 0.00045983126200555376\n",
            "Epoch 5000, MSE Loss: 0.0004591275243619097\n",
            "Epoch 6000, MSE Loss: 0.00045850357965956663\n",
            "Epoch 7000, MSE Loss: 0.0004579485060755144\n",
            "Epoch 8000, MSE Loss: 0.00045745312344676347\n",
            "Epoch 9000, MSE Loss: 0.00045700967859537794\n",
            "Training MSE: 0.0004566115938112446\n",
            "Testing MSE: 3.565800047336586e-05\n",
            "Enter x1: 0.9\n",
            "Enter x2: 0.4\n",
            "Predicted Output for input (0.9, 0.4): 0.2718904101198746\n"
          ]
        }
      ]
    },
    {
      "cell_type": "code",
      "source": [
        "def predict(x1, x2):\n",
        "    input_data = np.array([[x1, x2]])\n",
        "    hidden_output = sigmoid(np.dot(input_data, W1) + b1)\n",
        "    output = np.dot(hidden_output, W2) + b2\n",
        "    return output[0][0]\n",
        "x1_input = float(input(\"Enter x1: \"))\n",
        "x2_input = float(input(\"Enter x2: \"))\n",
        "prediction = predict(x1_input, x2_input)\n",
        "print(f'Predicted Output for input ({x1_input}, {x2_input}): {prediction}')"
      ],
      "metadata": {
        "colab": {
          "base_uri": "https://localhost:8080/"
        },
        "id": "PjQiO06AGRNs",
        "outputId": "acab9ce3-b0c2-45c4-b3e3-c2632393f44a"
      },
      "execution_count": 5,
      "outputs": [
        {
          "output_type": "stream",
          "name": "stdout",
          "text": [
            "Enter x1: 0.9\n",
            "Enter x2: 0.9\n",
            "Predicted Output for input (0.9, 0.9): 0.36479705751210867\n"
          ]
        }
      ]
    }
  ]
}