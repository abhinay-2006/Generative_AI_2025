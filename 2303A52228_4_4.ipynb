{
  "nbformat": 4,
  "nbformat_minor": 0,
  "metadata": {
    "colab": {
      "provenance": [],
      "authorship_tag": "ABX9TyOx+zUxKNWBYp9wIfAPylfF",
      "include_colab_link": true
    },
    "kernelspec": {
      "name": "python3",
      "display_name": "Python 3"
    },
    "language_info": {
      "name": "python"
    }
  },
  "cells": [
    {
      "cell_type": "markdown",
      "metadata": {
        "id": "view-in-github",
        "colab_type": "text"
      },
      "source": [
        "<a href=\"https://colab.research.google.com/github/abhinay-2006/Generative_AI_2025/blob/main/2303A52228_4_4.ipynb\" target=\"_parent\"><img src=\"https://colab.research.google.com/assets/colab-badge.svg\" alt=\"Open In Colab\"/></a>"
      ]
    },
    {
      "cell_type": "code",
      "execution_count": 1,
      "metadata": {
        "colab": {
          "base_uri": "https://localhost:8080/"
        },
        "id": "bw8_2h3yDHXJ",
        "outputId": "1e496c09-47d2-4f38-9978-9d600f576c85"
      },
      "outputs": [
        {
          "output_type": "stream",
          "name": "stdout",
          "text": [
            "Epoch 0: Loss = 0.8016722703245187\n",
            "Epoch 100: Loss = 0.0481256702438915\n",
            "Epoch 200: Loss = 0.010686457563771084\n",
            "Epoch 300: Loss = 0.0023872004972289485\n",
            "Epoch 400: Loss = 0.0005417290031819391\n",
            "Epoch 500: Loss = 0.00012959446157951636\n",
            "Epoch 600: Loss = 3.688378186819774e-05\n",
            "Epoch 700: Loss = 1.566177263426719e-05\n",
            "Epoch 800: Loss = 1.0529566247421865e-05\n",
            "Epoch 900: Loss = 9.05075798230233e-06\n",
            "Test Loss (MSE): 3.653567462144038e-05\n",
            "Enter value for x1: 0.8\n",
            "Enter value for x2: 0.6\n",
            "Enter value for x3: 0.4\n",
            "Predicted output: [0.29647288]\n"
          ]
        }
      ],
      "source": [
        "import numpy as np\n",
        "X_train = np.array([[0.1, 0.2, 0.3],\n",
        "                    [0.2, 0.3, 0.4],\n",
        "                    [0.3, 0.4, 0.5],\n",
        "                    [0.5, 0.6, 0.7],\n",
        "                    [0.1, 0.3, 0.5],\n",
        "                    [0.2, 0.4, 0.6],\n",
        "                    [0.3, 0.5, 0.7],\n",
        "                    [0.4, 0.6, 0.8],\n",
        "                    [0.5, 0.7, 0.1]])\n",
        "y_train = np.array([0.14, 0.20, 0.26, 0.38, 0.22, 0.28, 0.34, 0.40, 0.22])\n",
        "X_test = np.array([[0.6, 0.7, 0.8],\n",
        "                   [0.7, 0.8, 0.9]])\n",
        "y_test = np.array([0.44, 0.50])\n",
        "learning_rate = 0.1\n",
        "epochs = 1000\n",
        "weights = np.random.randn(3)\n",
        "bias = np.random.randn(1)\n",
        "def mse_loss(y_true, y_pred):\n",
        "    return np.mean((y_true - y_pred)**2)\n",
        "for epoch in range(epochs):\n",
        "    y_pred = X_train.dot(weights) + bias\n",
        "    loss = mse_loss(y_train, y_pred)\n",
        "    d_loss_w = -2 * X_train.T.dot(y_train - y_pred) / len(y_train)\n",
        "    d_loss_b = -2 * np.sum(y_train - y_pred) / len(y_train)\n",
        "    weights -= learning_rate * d_loss_w\n",
        "    bias -= learning_rate * d_loss_b\n",
        "    if epoch % 100 == 0:\n",
        "        print(f\"Epoch {epoch}: Loss = {loss}\")\n",
        "y_test_pred = X_test.dot(weights) + bias\n",
        "test_loss = mse_loss(y_test, y_test_pred)\n",
        "print(f\"Test Loss (MSE): {test_loss}\")\n",
        "def predict(x1, x2, x3):\n",
        "    return np.dot([x1, x2, x3], weights) + bias\n",
        "x1 = float(input(\"Enter value for x1: \"))\n",
        "x2 = float(input(\"Enter value for x2: \"))\n",
        "x3 = float(input(\"Enter value for x3: \"))\n",
        "output = predict(x1, x2, x3)\n",
        "print(f\"Predicted output: {output}\")"
      ]
    },
    {
      "cell_type": "code",
      "source": [
        "import numpy as np\n",
        "X_train = np.array([[0.1, 0.2, 0.3],\n",
        "                    [0.2, 0.3, 0.4],\n",
        "                    [0.3, 0.4, 0.5],\n",
        "                    [0.5, 0.6, 0.7],\n",
        "                    [0.1, 0.3, 0.5],\n",
        "                    [0.2, 0.4, 0.6],\n",
        "                    [0.3, 0.5, 0.7],\n",
        "                    [0.4, 0.6, 0.8],\n",
        "                    [0.5, 0.7, 0.1]])\n",
        "y_train = np.array([0.5349, 0.5498, 0.5646, 0.5939, 0.5548, 0.5695, 0.5842, 0.5987, 0.5548])\n",
        "X_test = np.array([[0.6, 0.7, 0.8],\n",
        "                   [0.7, 0.8, 0.9]])\n",
        "y_test = np.array([0.6083, 0.6225])\n",
        "def sigmoid(x):\n",
        "    return 1 / (1 + np.exp(-x))\n",
        "def sigmoid_derivative(x):\n",
        "    return x * (1 - x)\n",
        "weights = np.random.randn(3)\n",
        "bias = np.random.randn(1)\n",
        "learning_rate = 0.1\n",
        "epochs = 10000\n",
        "for epoch in range(epochs):\n",
        "    z = np.dot(X_train, weights) + bias\n",
        "    y_pred = sigmoid(z)\n",
        "    error = y_pred - y_train\n",
        "    loss = np.mean(error**2)\n",
        "    d_loss = error\n",
        "    d_sigmoid = sigmoid_derivative(y_pred)\n",
        "    d_loss_w = np.dot(X_train.T, d_loss * d_sigmoid) / len(X_train)\n",
        "    d_loss_b = np.sum(d_loss * d_sigmoid) / len(X_train)\n",
        "    weights -= learning_rate * d_loss_w\n",
        "    bias -= learning_rate * d_loss_b\n",
        "    if epoch % 1000 == 0:\n",
        "        print(f\"Epoch {epoch}, Loss: {loss}\")\n",
        "z_test = np.dot(X_test, weights) + bias\n",
        "y_test_pred = sigmoid(z_test)\n",
        "test_loss = np.mean((y_test - y_test_pred) ** 2)\n",
        "print(f\"Test Loss (MSE): {test_loss}\")\n",
        "def predict(x1, x2, x3):\n",
        "    z = np.dot([x1, x2, x3], weights) + bias\n",
        "    return sigmoid(z)\n",
        "x1 = float(input(\"Enter value for x1: \"))\n",
        "x2 = float(input(\"Enter value for x2: \"))\n",
        "x3 = float(input(\"Enter value for x3: \"))\n",
        "output = predict(x1, x2, x3)\n",
        "print(f\"Predicted output: {output}\")"
      ],
      "metadata": {
        "colab": {
          "base_uri": "https://localhost:8080/"
        },
        "id": "y5OBFE6SFMCy",
        "outputId": "9ab9f82c-db35-4761-8d14-1bf351eb7175"
      },
      "execution_count": 2,
      "outputs": [
        {
          "output_type": "stream",
          "name": "stdout",
          "text": [
            "Epoch 0, Loss: 0.09466479691362323\n",
            "Epoch 1000, Loss: 0.0018120804142179796\n",
            "Epoch 2000, Loss: 0.0012476073360165958\n",
            "Epoch 3000, Loss: 0.0008620553604258928\n",
            "Epoch 4000, Loss: 0.0005994616475912952\n",
            "Epoch 5000, Loss: 0.00042088346872538765\n",
            "Epoch 6000, Loss: 0.00029950760760793604\n",
            "Epoch 7000, Loss: 0.0002169957092299533\n",
            "Epoch 8000, Loss: 0.00016085738016152946\n",
            "Epoch 9000, Loss: 0.00012260625490390556\n",
            "Test Loss (MSE): 0.0008894785360406654\n",
            "Enter value for x1: 0.9\n",
            "Enter value for x2: 0.9\n",
            "Enter value for x3: 0.9\n",
            "Predicted output: [0.57973127]\n"
          ]
        }
      ]
    }
  ]
}