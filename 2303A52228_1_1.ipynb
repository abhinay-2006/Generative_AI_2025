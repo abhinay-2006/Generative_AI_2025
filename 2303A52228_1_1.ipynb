{
  "nbformat": 4,
  "nbformat_minor": 0,
  "metadata": {
    "colab": {
      "provenance": [],
      "authorship_tag": "ABX9TyPweWJtV+AckyYhMiDwDgvl",
      "include_colab_link": true
    },
    "kernelspec": {
      "name": "python3",
      "display_name": "Python 3"
    },
    "language_info": {
      "name": "python"
    }
  },
  "cells": [
    {
      "cell_type": "markdown",
      "metadata": {
        "id": "view-in-github",
        "colab_type": "text"
      },
      "source": [
        "<a href=\"https://colab.research.google.com/github/abhinay-2006/Generative_AI_2025/blob/main/2303A52228_1_1.ipynb\" target=\"_parent\"><img src=\"https://colab.research.google.com/assets/colab-badge.svg\" alt=\"Open In Colab\"/></a>"
      ]
    },
    {
      "cell_type": "code",
      "execution_count": 13,
      "metadata": {
        "colab": {
          "base_uri": "https://localhost:8080/"
        },
        "id": "645pF6bw6fQI",
        "outputId": "854006e4-4e2a-40e5-a89b-86017a901da4"
      },
      "outputs": [
        {
          "output_type": "stream",
          "name": "stdout",
          "text": [
            "Mean Absolute Error (MAE): 0.4600000000000016\n",
            "Mean Squared Error (MSE): 0.24600000000000147\n",
            "Root Mean Squared Error (RMSE): 0.49598387070549127\n",
            "R-squared (R²): 0.99877\n"
          ]
        }
      ],
      "source": [
        "import numpy as np\n",
        "def mean_absolute_error(y_actual, y_pred):\n",
        "    return np.mean(np.abs(np.array(y_actual) - np.array(y_pred)))\n",
        "def mean_squared_error(y_actual, y_pred):\n",
        "    return np.mean((np.array(y_actual) - np.array(y_pred)) ** 2)\n",
        "def root_mean_squared_error(y_actual, y_pred):\n",
        "    return np.sqrt(mean_squared_error(y_actual, y_pred))\n",
        "def r_squared(y_actual, y_pred):\n",
        "    y_actual_mean = np.mean(y_actual)\n",
        "    ss_total = np.sum((np.array(y_actual) - y_actual_mean) ** 2)\n",
        "    ss_residual = np.sum((np.array(y_actual) - np.array(y_pred)) ** 2)\n",
        "    return 1 - (ss_residual / ss_total)\n",
        "y_actual = [20, 30, 40, 50, 60]\n",
        "y_pred = [20.5, 30.3, 40.2, 50.6, 60.7]\n",
        "mae = mean_absolute_error(y_actual, y_pred)\n",
        "mse = mean_squared_error(y_actual, y_pred)\n",
        "rmse = root_mean_squared_error(y_actual, y_pred)\n",
        "r2 = r_squared(y_actual, y_pred)\n",
        "print(f\"Mean Absolute Error (MAE): {mae}\")\n",
        "print(f\"Mean Squared Error (MSE): {mse}\")\n",
        "print(f\"Root Mean Squared Error (RMSE): {rmse}\")\n",
        "print(f\"R-squared (R²): {r2}\")"
      ]
    },
    {
      "cell_type": "code",
      "source": [
        "from sklearn.metrics import mean_absolute_error, mean_squared_error, r2_score\n",
        "from math import sqrt\n",
        "mae_sklearn = mean_absolute_error(y_actual, y_pred)\n",
        "mse_sklearn = mean_squared_error(y_actual, y_pred)\n",
        "rmse_sklearn = sqrt(mse_sklearn)\n",
        "r2_sklearn = r2_score(y_actual, y_pred)\n",
        "print(\"\\nUsing scikit-learn:\")\n",
        "print(f\"Mean Absolute Error (MAE): {mae_sklearn}\")\n",
        "print(f\"Mean Squared Error (MSE): {mse_sklearn}\")\n",
        "print(f\"Root Mean Squared Error (RMSE): {rmse_sklearn}\")\n",
        "print(f\"R-squared (R²): {r2_sklearn}\")"
      ],
      "metadata": {
        "colab": {
          "base_uri": "https://localhost:8080/"
        },
        "id": "BqDqzSHO7RMr",
        "outputId": "9d08f785-7dac-4bd6-a06f-df4feeff5b9d"
      },
      "execution_count": 14,
      "outputs": [
        {
          "output_type": "stream",
          "name": "stdout",
          "text": [
            "\n",
            "Using scikit-learn:\n",
            "Mean Absolute Error (MAE): 0.4600000000000016\n",
            "Mean Squared Error (MSE): 0.24600000000000147\n",
            "Root Mean Squared Error (RMSE): 0.49598387070549127\n",
            "R-squared (R²): 0.99877\n"
          ]
        }
      ]
    },
    {
      "cell_type": "code",
      "source": [
        "import numpy as np\n",
        "from sklearn.metrics import accuracy_score, precision_score, recall_score, f1_score, confusion_matrix as cm_sklearn\n",
        "def calculate_metrics(y_actual, y_pred, num_classes):\n",
        "    cm = np.zeros((num_classes, num_classes), dtype=int)\n",
        "    for true, pred in zip(y_actual, y_pred):\n",
        "        cm[true, pred] += 1\n",
        "    acc = accuracy_score(y_actual, y_pred)\n",
        "    print(f\"Accuracy: {acc}\")\n",
        "    for class_label in range(num_classes):\n",
        "        tp, fp, fn = cm[class_label, class_label], cm[:, class_label].sum() - cm[class_label, class_label], cm[class_label, :].sum() - cm[class_label, class_label]\n",
        "        precision = tp / (tp + fp) if tp + fp > 0 else 0\n",
        "        recall = tp / (tp + fn) if tp + fn > 0 else 0\n",
        "        f1 = 2 * (precision * recall) / (precision + recall) if precision + recall > 0 else 0\n",
        "        print(f\"Class {class_label}: Precision: {precision}, Recall: {recall}, F1 Score: {f1}\")\n",
        "    print(\"\\nConfusion Matrix:\")\n",
        "    print(cm)\n",
        "y_actual = [0, 0, 0, 0, 0, 1, 1, 1, 1, 1, 2, 2, 2, 2, 2]\n",
        "y_pred = [0, 0, 1, 2, 2, 1, 0, 2, 0, 2, 0, 0, 1, 2, 2]\n",
        "num_classes = 3\n",
        "calculate_metrics(y_actual, y_pred, num_classes)\n",
        "print(\"\\nUsing scikit-learn:\")\n",
        "print(f\"Accuracy: {accuracy_score(y_actual, y_pred)}\")\n",
        "print(f\"Precision (per class): {precision_score(y_actual, y_pred, average=None, labels=[0, 1, 2])}\")\n",
        "print(f\"Recall (per class): {recall_score(y_actual, y_pred, average=None, labels=[0, 1, 2])}\")\n",
        "print(f\"F1 Score (per class): {f1_score(y_actual, y_pred, average=None, labels=[0, 1, 2])}\")\n",
        "print(f\"Confusion Matrix:\\n{cm_sklearn(y_actual, y_pred)}\")\n"
      ],
      "metadata": {
        "colab": {
          "base_uri": "https://localhost:8080/"
        },
        "id": "GalAqTpSDIHE",
        "outputId": "21f6d06f-ff4c-489e-c58a-c4d9f242d66c"
      },
      "execution_count": 12,
      "outputs": [
        {
          "output_type": "stream",
          "name": "stdout",
          "text": [
            "Accuracy: 0.3333333333333333\n",
            "Class 0: Precision: 0.3333333333333333, Recall: 0.4, F1 Score: 0.3636363636363636\n",
            "Class 1: Precision: 0.3333333333333333, Recall: 0.2, F1 Score: 0.25\n",
            "Class 2: Precision: 0.3333333333333333, Recall: 0.4, F1 Score: 0.3636363636363636\n",
            "\n",
            "Confusion Matrix:\n",
            "[[2 1 2]\n",
            " [2 1 2]\n",
            " [2 1 2]]\n",
            "\n",
            "Using scikit-learn:\n",
            "Accuracy: 0.3333333333333333\n",
            "Precision (per class): [0.33333333 0.33333333 0.33333333]\n",
            "Recall (per class): [0.4 0.2 0.4]\n",
            "F1 Score (per class): [0.36363636 0.25       0.36363636]\n",
            "Confusion Matrix:\n",
            "[[2 1 2]\n",
            " [2 1 2]\n",
            " [2 1 2]]\n"
          ]
        }
      ]
    }
  ]
}